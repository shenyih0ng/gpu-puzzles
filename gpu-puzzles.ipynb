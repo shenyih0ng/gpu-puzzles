{
  "cells": [
    {
      "cell_type": "markdown",
      "id": "5177d1ed",
      "metadata": {
        "id": "5177d1ed"
      },
      "source": [
        "# GPU Puzzles\n",
        "- by [Sasha Rush](http://rush-nlp.com) - [srush_nlp](https://twitter.com/srush_nlp)"
      ]
    },
    {
      "cell_type": "markdown",
      "id": "349e7477",
      "metadata": {
        "id": "349e7477"
      },
      "source": [
        "![](https://github.com/srush/GPU-Puzzles/raw/main/cuda.png)"
      ]
    },
    {
      "cell_type": "markdown",
      "id": "b2072a8e",
      "metadata": {
        "id": "b2072a8e"
      },
      "source": [
        "GPU architectures are critical to machine learning, and seem to be\n",
        "becoming even more important every day. However you can be an expert\n",
        "in machine learning without ever touching GPU code. It is a bit\n",
        "weird to be work always through abstraction. "
      ]
    },
    {
      "cell_type": "markdown",
      "id": "28f250dd",
      "metadata": {
        "id": "28f250dd"
      },
      "source": [
        "This notebook is an attempt teach beginner GPU programming in a\n",
        "completely interactive fashion. Instead of providing text with\n",
        "concepts, it throws you right into coding and building GPU\n",
        "kernels. The exercises use NUMBA which directly maps Python\n",
        "code to CUDA kernels. It looks like Python but is basically\n",
        "identical to writing low-level CUDA code. \n",
        "In a few hours, I think you can go from basics to\n",
        "understanding the real algorithms that power 99% of deep learning\n",
        "today. If you do want to read the manual, it is here:"
      ]
    },
    {
      "cell_type": "markdown",
      "id": "1a49f1a3",
      "metadata": {
        "id": "1a49f1a3"
      },
      "source": [
        "[NUMBA CUDA Guide](https://numba.readthedocs.io/en/stable/cuda/index.html)"
      ]
    },
    {
      "cell_type": "markdown",
      "id": "0e535d14",
      "metadata": {
        "id": "0e535d14"
      },
      "source": [
        "I recommend doing these in Colab, as it is easy to get started.  Be\n",
        "sure to make your own copy, turn on GPU mode in the settings (`Runtime / Change runtime type`, then set `Hardware accelerator` to `GPU`), and\n",
        "then get to coding."
      ]
    },
    {
      "cell_type": "markdown",
      "id": "e9cdd69b",
      "metadata": {
        "id": "e9cdd69b"
      },
      "source": [
        "[![Open In Colab](https://colab.research.google.com/assets/colab-badge.svg)](https://colab.research.google.com/github/srush/GPU-Puzzles/blob/main/GPU_puzzlers.ipynb)"
      ]
    },
    {
      "cell_type": "markdown",
      "id": "efff04c5",
      "metadata": {
        "id": "efff04c5"
      },
      "source": [
        "(If you are into this style of puzzle, also check out my [Tensor\n",
        "Puzzles](https://github.com/srush/Tensor-Puzzles) for PyTorch.)"
      ]
    },
    {
      "cell_type": "code",
      "execution_count": null,
      "id": "b75b6477",
      "metadata": {
        "colab": {
          "base_uri": "https://localhost:8080/"
        },
        "id": "b75b6477",
        "outputId": "f4d36ba3-8436-4f17-ded5-a3b98284dcca"
      },
      "outputs": [],
      "source": [
        "!pip install -qqq git+https://github.com/danoneata/chalk@srush-patch-1\n",
        "!wget -q https://github.com/srush/GPU-Puzzles/raw/main/robot.png https://github.com/srush/GPU-Puzzles/raw/main/lib.py"
      ]
    },
    {
      "cell_type": "code",
      "execution_count": null,
      "id": "8dec03c5",
      "metadata": {
        "id": "8dec03c5"
      },
      "outputs": [],
      "source": [
        "import numba\n",
        "import numpy as np\n",
        "import warnings\n",
        "from lib import CudaProblem, Coord"
      ]
    },
    {
      "cell_type": "code",
      "execution_count": null,
      "id": "fd7652f0",
      "metadata": {
        "id": "fd7652f0"
      },
      "outputs": [],
      "source": [
        "warnings.filterwarnings(\n",
        "    action=\"ignore\", category=numba.NumbaPerformanceWarning, module=\"numba\"\n",
        ")"
      ]
    },
    {
      "cell_type": "markdown",
      "id": "990f3617",
      "metadata": {
        "id": "990f3617"
      },
      "source": [
        "## Puzzle 1: Map\n",
        "\n",
        "Implement a \"kernel\" (GPU function) that adds 10 to each position of vector `a`\n",
        "and stores it in vector `out`.  You have 1 thread per position."
      ]
    },
    {
      "cell_type": "markdown",
      "id": "b4406e24",
      "metadata": {
        "id": "b4406e24"
      },
      "source": [
        "**Warning** This code looks like Python but it is really CUDA! You cannot use\n",
        "standard python tools like list comprehensions or ask for Numpy properties\n",
        "like shape or size (if you need the size, it is given as an argument).\n",
        "The puzzles only require doing simple operations, basically\n",
        "+, *, simple array indexing, for loops, and if statements. If you get an\n",
        "error it is probably because you did something fancy :). "
      ]
    },
    {
      "cell_type": "markdown",
      "id": "4e03ea0b",
      "metadata": {
        "id": "4e03ea0b"
      },
      "source": [
        "*Tip: Think of the function `call` as being run 1 time for each thread.\n",
        "The only difference is that `cuda.threadIdx.x` changes each time.*"
      ]
    },
    {
      "cell_type": "code",
      "execution_count": null,
      "id": "27e8cd19",
      "metadata": {
        "colab": {
          "base_uri": "https://localhost:8080/"
        },
        "id": "27e8cd19",
        "outputId": "b9ee8635-ec03-4e52-bb3d-34a0e03459cd"
      },
      "outputs": [],
      "source": [
        "def map_spec(a):\n",
        "    return a + 10\n",
        "\n",
        "\n",
        "def map_test(cuda):\n",
        "    def call(out, a) -> None:\n",
        "        local_i = cuda.threadIdx.x\n",
        "        out[local_i] = a[local_i] + 10\n",
        "\n",
        "    return call\n",
        "\n",
        "\n",
        "SIZE = 4\n",
        "out = np.zeros((SIZE,))\n",
        "a = np.arange(SIZE)\n",
        "problem = CudaProblem(\n",
        "    \"Map\", map_test, [a], out, threadsperblock=Coord(SIZE, 1), spec=map_spec\n",
        ")\n",
        "problem.show()"
      ]
    },
    {
      "cell_type": "code",
      "execution_count": null,
      "id": "5af0794c",
      "metadata": {
        "colab": {
          "base_uri": "https://localhost:8080/"
        },
        "id": "5af0794c",
        "outputId": "6fc5795c-be6a-49e7-eca5-cf9bc73b87e4"
      },
      "outputs": [],
      "source": [
        "problem.check()"
      ]
    },
    {
      "cell_type": "markdown",
      "id": "fc2eac07",
      "metadata": {
        "id": "fc2eac07"
      },
      "source": [
        "## Puzzle 2 - Zip\n",
        "\n",
        "Implement a kernel that adds together each position of `a` and `b` and stores it in `out`.\n",
        "You have 1 thread per position."
      ]
    },
    {
      "cell_type": "code",
      "execution_count": null,
      "id": "565a92fa",
      "metadata": {
        "colab": {
          "base_uri": "https://localhost:8080/"
        },
        "id": "565a92fa",
        "outputId": "c892dc5d-7e58-40d6-ef8d-5ed8f27f3e82"
      },
      "outputs": [],
      "source": [
        "def zip_spec(a, b):\n",
        "    return a + b\n",
        "\n",
        "\n",
        "def zip_test(cuda):\n",
        "    def call(out, a, b) -> None:\n",
        "        local_i = cuda.threadIdx.x\n",
        "        out[local_i] = a[local_i] + b[local_i]\n",
        "\n",
        "    return call\n",
        "\n",
        "\n",
        "SIZE = 4\n",
        "out = np.zeros((SIZE,))\n",
        "a = np.arange(SIZE)\n",
        "b = np.arange(SIZE)\n",
        "problem = CudaProblem(\n",
        "    \"Zip\", zip_test, [a, b], out, threadsperblock=Coord(SIZE, 1), spec=zip_spec\n",
        ")\n",
        "problem.show()"
      ]
    },
    {
      "cell_type": "code",
      "execution_count": null,
      "id": "8a6cf7d8",
      "metadata": {
        "colab": {
          "base_uri": "https://localhost:8080/"
        },
        "id": "8a6cf7d8",
        "outputId": "a1f6e017-0b3c-4ee9-8159-73e691cf52f5"
      },
      "outputs": [],
      "source": [
        "problem.check()"
      ]
    },
    {
      "cell_type": "markdown",
      "id": "d9187f70",
      "metadata": {
        "id": "d9187f70"
      },
      "source": [
        "## Puzzle 3 - Guards\n",
        "\n",
        "Implement a kernel that adds 10 to each position of `a` and stores it in `out`.\n",
        "You have more threads than positions."
      ]
    },
    {
      "cell_type": "code",
      "execution_count": null,
      "id": "c390eef7",
      "metadata": {
        "colab": {
          "base_uri": "https://localhost:8080/"
        },
        "id": "c390eef7",
        "outputId": "d72e8563-a4df-410e-b85a-cd01b925fd0f"
      },
      "outputs": [],
      "source": [
        "def map_guard_test(cuda):\n",
        "    def call(out, a, size) -> None:\n",
        "        local_i = cuda.threadIdx.x\n",
        "        if local_i < size:\n",
        "          out[local_i] = a[local_i] + 10\n",
        "\n",
        "    return call\n",
        "\n",
        "\n",
        "SIZE = 4\n",
        "out = np.zeros((SIZE,))\n",
        "a = np.arange(SIZE)\n",
        "problem = CudaProblem(\n",
        "    \"Guard\",\n",
        "    map_guard_test,\n",
        "    [a],\n",
        "    out,\n",
        "    [SIZE],\n",
        "    threadsperblock=Coord(8, 1),\n",
        "    spec=map_spec,\n",
        ")\n",
        "problem.show()"
      ]
    },
    {
      "cell_type": "code",
      "execution_count": null,
      "id": "b1f7a825",
      "metadata": {
        "colab": {
          "base_uri": "https://localhost:8080/"
        },
        "id": "b1f7a825",
        "outputId": "b6f68ff9-b42a-4441-cf2a-02b01f4619e1"
      },
      "outputs": [],
      "source": [
        "problem.check()"
      ]
    },
    {
      "cell_type": "markdown",
      "id": "b98ec557",
      "metadata": {
        "id": "b98ec557"
      },
      "source": [
        "## Puzzle 4 - Map 2D\n",
        "\n",
        "Implement a kernel that adds 10 to each position of `a` and stores it in `out`.\n",
        "Input `a` is 2D and square. You have more threads than positions."
      ]
    },
    {
      "cell_type": "code",
      "execution_count": null,
      "id": "518e5744",
      "metadata": {
        "colab": {
          "base_uri": "https://localhost:8080/"
        },
        "id": "518e5744",
        "outputId": "055e5848-406c-4bf7-9626-289dcc2621fd"
      },
      "outputs": [],
      "source": [
        "def map_2D_test(cuda):\n",
        "    def call(out, a, size) -> None:\n",
        "        local_i = cuda.threadIdx.x\n",
        "        local_j = cuda.threadIdx.y\n",
        "        if (local_i < size) and (local_j < size):\n",
        "          out[local_i, local_j] = a[local_i, local_j] + 10\n",
        "\n",
        "    return call\n",
        "\n",
        "\n",
        "SIZE = 2\n",
        "out = np.zeros((SIZE, SIZE))\n",
        "a = np.arange(SIZE * SIZE).reshape((SIZE, SIZE))\n",
        "problem = CudaProblem(\n",
        "    \"Map 2D\", map_2D_test, [a], out, [SIZE], threadsperblock=Coord(3, 3), spec=map_spec\n",
        ")\n",
        "problem.show()"
      ]
    },
    {
      "cell_type": "code",
      "execution_count": null,
      "id": "21a0fd2e",
      "metadata": {
        "colab": {
          "base_uri": "https://localhost:8080/"
        },
        "id": "21a0fd2e",
        "outputId": "73fde937-96db-4791-982b-3dbeb87982a9"
      },
      "outputs": [],
      "source": [
        "problem.check()"
      ]
    },
    {
      "cell_type": "markdown",
      "id": "e474293d",
      "metadata": {
        "id": "e474293d"
      },
      "source": [
        "## Puzzle 5 - Broadcast\n",
        "\n",
        "Implement a kernel that adds `a` and `b` and stores it in `out`.\n",
        "Inputs `a` and `b` are vectors. You have more threads than positions."
      ]
    },
    {
      "cell_type": "code",
      "execution_count": null,
      "id": "f61f706e",
      "metadata": {
        "colab": {
          "base_uri": "https://localhost:8080/",
          "height": 1000
        },
        "id": "f61f706e",
        "outputId": "c83836fe-a34c-4ace-e6ac-b14fc6eb5b66"
      },
      "outputs": [],
      "source": [
        "def broadcast_test(cuda):\n",
        "    def call(out, a, b, size) -> None:\n",
        "        local_i = cuda.threadIdx.x\n",
        "        local_j = cuda.threadIdx.y\n",
        "        if (local_i < size) and (local_j < size):\n",
        "          out[local_i, local_j] = a[local_i, 0] + b[0, local_j]\n",
        "\n",
        "    return call\n",
        "\n",
        "\n",
        "SIZE = 2\n",
        "out = np.zeros((SIZE, SIZE))\n",
        "a = np.arange(SIZE).reshape(SIZE, 1)\n",
        "b = np.arange(SIZE).reshape(1, SIZE)\n",
        "problem = CudaProblem(\n",
        "    \"Broadcast\",\n",
        "    broadcast_test,\n",
        "    [a, b],\n",
        "    out,\n",
        "    [SIZE],\n",
        "    threadsperblock=Coord(3, 3),\n",
        "    spec=zip_spec,\n",
        ")\n",
        "problem.show()"
      ]
    },
    {
      "cell_type": "code",
      "execution_count": null,
      "id": "919a03a6",
      "metadata": {
        "colab": {
          "base_uri": "https://localhost:8080/",
          "height": 444
        },
        "id": "919a03a6",
        "outputId": "4e4d2cc1-e54c-4a5c-e2cc-7cc2a6360639"
      },
      "outputs": [],
      "source": [
        "problem.check()"
      ]
    },
    {
      "cell_type": "markdown",
      "id": "dc022265",
      "metadata": {
        "id": "dc022265"
      },
      "source": [
        "## Puzzle 6 - Blocks\n",
        "\n",
        "Implement a kernel that adds 10 to each position of `a` and stores it in `out`.\n",
        "You have fewer threads per block than the size of `a`."
      ]
    },
    {
      "cell_type": "markdown",
      "id": "67329695",
      "metadata": {
        "id": "67329695"
      },
      "source": [
        "*Tip: A block is a group of threads. The number of threads per block is limited, but we can\n",
        "have many different blocks. Variable `cuda.blockIdx` tells us what block we are in.*"
      ]
    },
    {
      "cell_type": "code",
      "execution_count": null,
      "id": "503e0770",
      "metadata": {
        "colab": {
          "base_uri": "https://localhost:8080/",
          "height": 1000
        },
        "id": "503e0770",
        "outputId": "6d799903-b3bb-453d-b7fa-a2f88b993a25"
      },
      "outputs": [],
      "source": [
        "def map_block_test(cuda):\n",
        "    def call(out, a, size) -> None:\n",
        "        i = cuda.blockIdx.x * cuda.blockDim.x + cuda.threadIdx.x\n",
        "        if i < size:\n",
        "          out[i] = a[i] + 10\n",
        "        \n",
        "\n",
        "    return call\n",
        "\n",
        "\n",
        "SIZE = 9\n",
        "out = np.zeros((SIZE,))\n",
        "a = np.arange(SIZE)\n",
        "problem = CudaProblem(\n",
        "    \"Blocks\",\n",
        "    map_block_test,\n",
        "    [a],\n",
        "    out,\n",
        "    [SIZE],\n",
        "    threadsperblock=Coord(4, 1),\n",
        "    blockspergrid=Coord(3, 1),\n",
        "    spec=map_spec,\n",
        ")\n",
        "problem.show()"
      ]
    },
    {
      "cell_type": "code",
      "execution_count": null,
      "id": "dabe2378",
      "metadata": {
        "colab": {
          "base_uri": "https://localhost:8080/",
          "height": 444
        },
        "id": "dabe2378",
        "outputId": "318b6e93-01ff-4dee-d129-9d4176af0b99"
      },
      "outputs": [],
      "source": [
        "problem.check()"
      ]
    },
    {
      "cell_type": "markdown",
      "id": "d705597c",
      "metadata": {
        "id": "d705597c"
      },
      "source": [
        "## Puzzle 7 - Blocks 2D\n",
        "\n",
        "Implement the same kernel in 2D.  You have fewer threads per block\n",
        "than the size of `a` in both directions."
      ]
    },
    {
      "cell_type": "code",
      "execution_count": null,
      "id": "c7ff4d5b",
      "metadata": {
        "colab": {
          "base_uri": "https://localhost:8080/",
          "height": 1000
        },
        "id": "c7ff4d5b",
        "outputId": "889eb78b-586f-4ce1-bb2b-e46493ec4aa9"
      },
      "outputs": [],
      "source": [
        "def map_block2D_test(cuda):\n",
        "    def call(out, a, size) -> None:\n",
        "        i = cuda.blockIdx.x * cuda.blockDim.x + cuda.threadIdx.x\n",
        "        j = cuda.blockIdx.y * cuda.blockDim.y + cuda.threadIdx.y\n",
        "        # i, j represents the 2D coordinate of each thread\n",
        "        if (i < size) and (j < size):\n",
        "          out[i, j] = a[i, j] + 10\n",
        "\n",
        "    return call\n",
        "\n",
        "\n",
        "SIZE = 5\n",
        "out = np.zeros((SIZE, SIZE))\n",
        "a = np.ones((SIZE, SIZE))\n",
        "\n",
        "problem = CudaProblem(\n",
        "    \"Blocks 2D\",\n",
        "    map_block2D_test,\n",
        "    [a],\n",
        "    out,\n",
        "    [SIZE],\n",
        "    threadsperblock=Coord(3, 3),\n",
        "    blockspergrid=Coord(2, 2),\n",
        "    spec=map_spec,\n",
        ")\n",
        "problem.show()"
      ]
    },
    {
      "cell_type": "code",
      "execution_count": null,
      "id": "a1e975f3",
      "metadata": {
        "colab": {
          "base_uri": "https://localhost:8080/",
          "height": 569
        },
        "id": "a1e975f3",
        "outputId": "2811027d-cadb-4abc-ba29-3e69c5d8df1b"
      },
      "outputs": [],
      "source": [
        "problem.check()"
      ]
    },
    {
      "cell_type": "markdown",
      "id": "90948fb7",
      "metadata": {
        "id": "90948fb7"
      },
      "source": [
        "## Puzzle 8 - Shared\n",
        "\n",
        "Implement a kernel that adds 10 to each position of `a` and stores it in `out`.\n",
        "You have fewer threads per block than the size of `a`."
      ]
    },
    {
      "cell_type": "markdown",
      "id": "deb0d2d4",
      "metadata": {
        "id": "deb0d2d4"
      },
      "source": [
        "**Warning**: Each block can only have a *constant* amount of shared\n",
        " memory that threads in that block can read and write to. This needs\n",
        " to be a literal python constant not a variable. After writing to\n",
        " shared memory you need to call `cuda.syncthreads` to ensure that\n",
        " threads do not cross."
      ]
    },
    {
      "cell_type": "markdown",
      "id": "946f8787",
      "metadata": {
        "id": "946f8787"
      },
      "source": [
        "(This example does not really need shared memory or syncthreads, but it is a demo.)"
      ]
    },
    {
      "cell_type": "code",
      "execution_count": null,
      "id": "2b7752c1",
      "metadata": {
        "colab": {
          "base_uri": "https://localhost:8080/",
          "height": 1000
        },
        "id": "2b7752c1",
        "outputId": "e055a5b5-fbb9-4844-cd3e-5e8dadc9ad7e"
      },
      "outputs": [],
      "source": [
        "from re import I\n",
        "TPB = 4\n",
        "def shared_test(cuda):\n",
        "    def call(out, a, size) -> None:\n",
        "        shared = cuda.shared.array(TPB, numba.float32)\n",
        "        i = cuda.blockIdx.x * cuda.blockDim.x + cuda.threadIdx.x\n",
        "        local_i = cuda.threadIdx.x\n",
        "\n",
        "        if i < size:\n",
        "            shared[local_i] = a[i]\n",
        "            cuda.syncthreads()\n",
        "            out[i] = shared[local_i] + 10\n",
        "\n",
        "    return call\n",
        "\n",
        "\n",
        "SIZE = 8\n",
        "out = np.zeros(SIZE)\n",
        "a = np.ones(SIZE)\n",
        "problem = CudaProblem(\n",
        "    \"Shared\",\n",
        "    shared_test,\n",
        "    [a],\n",
        "    out,\n",
        "    [SIZE],\n",
        "    threadsperblock=Coord(TPB, 1),\n",
        "    blockspergrid=Coord(2, 1),\n",
        "    spec=map_spec,\n",
        ")\n",
        "problem.show()"
      ]
    },
    {
      "cell_type": "code",
      "execution_count": null,
      "id": "c12007ed",
      "metadata": {
        "colab": {
          "base_uri": "https://localhost:8080/",
          "height": 461
        },
        "id": "c12007ed",
        "outputId": "301da070-74e6-4ea1-f8b3-d7863fcaaf08"
      },
      "outputs": [],
      "source": [
        "problem.check()"
      ]
    },
    {
      "cell_type": "markdown",
      "id": "8f151fa8",
      "metadata": {
        "id": "8f151fa8"
      },
      "source": [
        "## Puzzle 9 - Pooling\n",
        "\n",
        "Implement a kernel that sums together the last 3 position of `a` and stores it in `out`.\n",
        "You have 1 thread per position. You only need 1 global read and 1 global write per thread."
      ]
    },
    {
      "cell_type": "markdown",
      "id": "09e5a1df",
      "metadata": {
        "id": "09e5a1df"
      },
      "source": [
        "*Tip: Remember to be careful about syncing.*"
      ]
    },
    {
      "cell_type": "code",
      "execution_count": null,
      "id": "33e3e196",
      "metadata": {
        "colab": {
          "base_uri": "https://localhost:8080/",
          "height": 1000
        },
        "id": "33e3e196",
        "outputId": "137a5292-32b6-4313-9118-06e442a3e162"
      },
      "outputs": [],
      "source": [
        "def pool_spec(a):\n",
        "    out = np.zeros(*a.shape)\n",
        "    for i in range(a.shape[0]):\n",
        "        out[i] = a[max(i - 2, 0) : i + 1].sum()\n",
        "    return out\n",
        "\n",
        "\n",
        "TPB = 8\n",
        "def pool_test(cuda):\n",
        "    def call(out, a, size) -> None:\n",
        "        shared = cuda.shared.array(TPB, numba.float32)\n",
        "        i = cuda.blockIdx.x * cuda.blockDim.x + cuda.threadIdx.x\n",
        "        local_i = cuda.threadIdx.x\n",
        "\n",
        "        # Every thread will load data element into shared\n",
        "        # so that compute will take reads from shared instead of global\n",
        "        if i < size:\n",
        "          shared[local_i] = a[i]\n",
        "          cuda.syncthreads()\n",
        "\n",
        "          acc = 0\n",
        "          for pos in range(3):\n",
        "            idx = local_i - pos;\n",
        "            if idx >= 0:\n",
        "              acc += shared[idx]\n",
        "              \n",
        "          out[i] = acc\n",
        "        \n",
        "    return call\n",
        "\n",
        "\n",
        "SIZE = 8\n",
        "out = np.zeros(SIZE)\n",
        "a = np.arange(SIZE)\n",
        "problem = CudaProblem(\n",
        "    \"Pooling\",\n",
        "    pool_test,\n",
        "    [a],\n",
        "    out,\n",
        "    [SIZE],\n",
        "    threadsperblock=Coord(TPB, 1),\n",
        "    blockspergrid=Coord(1, 1),\n",
        "    spec=pool_spec,\n",
        ")\n",
        "problem.show()"
      ]
    },
    {
      "cell_type": "code",
      "execution_count": null,
      "id": "431881bb",
      "metadata": {
        "colab": {
          "base_uri": "https://localhost:8080/",
          "height": 415
        },
        "id": "431881bb",
        "outputId": "ad532c7f-4ca0-408b-ecb7-5c851d447f2a"
      },
      "outputs": [],
      "source": [
        "problem.check()"
      ]
    },
    {
      "cell_type": "markdown",
      "id": "c5d28450",
      "metadata": {
        "id": "c5d28450"
      },
      "source": [
        "## Puzzle 10 - Dot Product\n",
        "\n",
        "Implement a kernel that computes the dot-product of `a` and `b` and stores it in `out`.\n",
        "You have 1 thread per position. You only need 1 global read and 1 global write per thread."
      ]
    },
    {
      "cell_type": "markdown",
      "id": "d6837648",
      "metadata": {
        "id": "d6837648"
      },
      "source": [
        "*Note: For this problem you don't need to worry about number of shared reads. We will\n",
        " handle that challenge later.*"
      ]
    },
    {
      "cell_type": "code",
      "execution_count": null,
      "id": "4c190a68",
      "metadata": {
        "colab": {
          "base_uri": "https://localhost:8080/",
          "height": 1000
        },
        "id": "4c190a68",
        "outputId": "e6933804-d11d-4e7d-a312-4dd2acd61077"
      },
      "outputs": [],
      "source": [
        "def dot_spec(a, b):\n",
        "    return a @ b\n",
        "\n",
        "\n",
        "TPB = 8\n",
        "def dot_test(cuda):\n",
        "    def call(out, a, b, size) -> None:\n",
        "        shared = cuda.shared.array(TPB, numba.float32)\n",
        "\n",
        "        i = cuda.blockIdx.x * cuda.blockDim.x + cuda.threadIdx.x\n",
        "        local_i = cuda.threadIdx.x\n",
        "\n",
        "        # Load all data elements into shared memory\n",
        "        # Delegate 1 thread to do reduce at the end\n",
        "        if i < size:\n",
        "          shared[local_i] = a[i] * b[i];\n",
        "          cuda.syncthreads()\n",
        "\n",
        "        if i == 0:\n",
        "          acc = 0\n",
        "          for idx in range(TPB):\n",
        "            acc += shared[idx]\n",
        "          out[0] = acc\n",
        "\n",
        "    return call\n",
        "\n",
        "\n",
        "SIZE = 8\n",
        "out = np.zeros(1)\n",
        "a = np.arange(SIZE)\n",
        "b = np.arange(SIZE)\n",
        "problem = CudaProblem(\n",
        "    \"Dot\",\n",
        "    dot_test,\n",
        "    [a, b],\n",
        "    out,\n",
        "    [SIZE],\n",
        "    threadsperblock=Coord(SIZE, 1),\n",
        "    blockspergrid=Coord(1, 1),\n",
        "    spec=dot_spec,\n",
        ")\n",
        "problem.show()"
      ]
    },
    {
      "cell_type": "code",
      "execution_count": null,
      "id": "a7b869df",
      "metadata": {
        "colab": {
          "base_uri": "https://localhost:8080/",
          "height": 444
        },
        "id": "a7b869df",
        "outputId": "b98db87e-a539-4ab1-cd1f-1993eb959aa8"
      },
      "outputs": [],
      "source": [
        "problem.check()"
      ]
    },
    {
      "cell_type": "markdown",
      "id": "46a4282e",
      "metadata": {
        "id": "46a4282e"
      },
      "source": [
        "## Puzzle 11 - 1D Convolution\n",
        "\n",
        "Implement a kernel that computes a 1D convolution between `a` and `b` and stores it in `out`.\n",
        "You need to handle the general case. You only need 2 global reads and 1 global write per thread."
      ]
    },
    {
      "cell_type": "code",
      "execution_count": null,
      "id": "26e4e5c8",
      "metadata": {
        "colab": {
          "base_uri": "https://localhost:8080/",
          "height": 1000
        },
        "id": "26e4e5c8",
        "outputId": "88d2a00f-ebb1-4971-9293-c844b99cb089"
      },
      "outputs": [],
      "source": [
        "def conv_spec(a, b):\n",
        "    out = np.zeros(*a.shape)\n",
        "    len = b.shape[0]\n",
        "    for i in range(a.shape[0]):\n",
        "        out[i] = sum([a[i + j] * b[j] for j in range(len) if i + j < a.shape[0]])\n",
        "    return out\n",
        "\n",
        "\n",
        "MAX_CONV = 5\n",
        "TPB = 8\n",
        "TPB_MAX_CONV = TPB + MAX_CONV\n",
        "def conv_test(cuda):\n",
        "    def call(out, a, b, a_size, b_size) -> None:\n",
        "        i = cuda.blockIdx.x * cuda.blockDim.x + cuda.threadIdx.x\n",
        "        local_i = cuda.threadIdx.x\n",
        "\n",
        "        # Store conv and a to shared so we can efficiently reuse\n",
        "        shared_a = cuda.shared.array(TPB_MAX_CONV, numba.float32);\n",
        "        # NOTE: Account for multiple blocks\n",
        "        shared_conv = cuda.shared.array(MAX_CONV, numba.float32);\n",
        "        if local_i < b_size:\n",
        "          shared_conv[local_i] = b[local_i]\n",
        "        if i < a_size:\n",
        "          shared_a[local_i] = a[i]\n",
        "\n",
        "        cuda.syncthreads()\n",
        "\n",
        "        # NOTE: Account for convs between blocks\n",
        "        if i < a_size:\n",
        "          block_end_idx = (cuda.blockIdx.x + 1) * cuda.blockDim.x  - 1\n",
        "          acc = 0\n",
        "          for conv_i in range(b_size):\n",
        "            idx = i + conv_i\n",
        "            if idx < a_size:\n",
        "              if idx > block_end_idx:\n",
        "                # Check if idx is out of block\n",
        "                acc += a[idx] * shared_conv[conv_i]\n",
        "              else:\n",
        "                acc += shared_a[idx % cuda.blockDim.x] * shared_conv[conv_i]\n",
        "          \n",
        "          out[i] = acc;\n",
        "\n",
        "    return call\n",
        "\n",
        "\n",
        "# Test 1\n",
        "\n",
        "SIZE = 6\n",
        "CONV = 3\n",
        "out = np.zeros(SIZE)\n",
        "a = np.arange(SIZE)\n",
        "b = np.arange(CONV)\n",
        "problem = CudaProblem(\n",
        "    \"1D Conv (Simple)\",\n",
        "    conv_test,\n",
        "    [a, b],\n",
        "    out,\n",
        "    [SIZE, CONV],\n",
        "    Coord(1, 1),\n",
        "    Coord(TPB, 1),\n",
        "    spec=conv_spec,\n",
        ")\n",
        "problem.show()"
      ]
    },
    {
      "cell_type": "code",
      "execution_count": null,
      "id": "855fc4a5",
      "metadata": {
        "colab": {
          "base_uri": "https://localhost:8080/",
          "height": 451
        },
        "id": "855fc4a5",
        "outputId": "43a994cc-0112-48d3-c221-f88779b32b36"
      },
      "outputs": [],
      "source": [
        "problem.check()"
      ]
    },
    {
      "cell_type": "markdown",
      "id": "dcbc9294",
      "metadata": {
        "id": "dcbc9294"
      },
      "source": [
        "Test 2"
      ]
    },
    {
      "cell_type": "code",
      "execution_count": null,
      "id": "b4b64bb7",
      "metadata": {
        "colab": {
          "base_uri": "https://localhost:8080/",
          "height": 1000
        },
        "id": "b4b64bb7",
        "outputId": "1bc1c687-979c-4e44-e4cd-698c13a078c9"
      },
      "outputs": [],
      "source": [
        "out = np.zeros(15)\n",
        "a = np.arange(15)\n",
        "b = np.arange(4)\n",
        "problem = CudaProblem(\n",
        "    \"1D Conv (Full)\",\n",
        "    conv_test,\n",
        "    [a, b],\n",
        "    out,\n",
        "    [15, 4],\n",
        "    Coord(2, 1),\n",
        "    Coord(TPB, 1),\n",
        "    spec=conv_spec,\n",
        ")\n",
        "problem.show()"
      ]
    },
    {
      "cell_type": "code",
      "execution_count": null,
      "id": "9cdc1732",
      "metadata": {
        "colab": {
          "base_uri": "https://localhost:8080/",
          "height": 579
        },
        "id": "9cdc1732",
        "outputId": "d5540193-0a8d-41c8-99eb-25bd53a8c9ab"
      },
      "outputs": [],
      "source": [
        "problem.check()"
      ]
    },
    {
      "cell_type": "markdown",
      "id": "890acccd",
      "metadata": {
        "id": "890acccd"
      },
      "source": [
        "## Puzzle 12 - Prefix Sum\n",
        "\n",
        "Implement a kernel that computes a sum over `a` and stores it in `out`.\n",
        "If the size of `a` is greater than the block size, only store the sum of\n",
        "each block."
      ]
    },
    {
      "cell_type": "markdown",
      "id": "7a116b4b",
      "metadata": {
        "id": "7a116b4b"
      },
      "source": [
        "We will do this using the [parallel prefix sum](https://en.wikipedia.org/wiki/Prefix_sum) algorithm in shared memory.\n",
        "That is, each step of the algorithm should sum together half the remaining numbers.\n",
        "Follow this diagram:"
      ]
    },
    {
      "cell_type": "markdown",
      "id": "fbde61ec",
      "metadata": {
        "id": "fbde61ec"
      },
      "source": [
        "![](https://user-images.githubusercontent.com/35882/178757889-1c269623-93af-4a2e-a7e9-22cd55a42e38.png)"
      ]
    },
    {
      "cell_type": "code",
      "execution_count": null,
      "id": "1da460de",
      "metadata": {
        "colab": {
          "base_uri": "https://localhost:8080/",
          "height": 1000
        },
        "id": "1da460de",
        "outputId": "68046be2-b09d-48db-db41-5d5dfc36a568"
      },
      "outputs": [],
      "source": [
        "TPB = 8\n",
        "def sum_spec(a):\n",
        "    out = np.zeros((a.shape[0] + TPB - 1) // TPB)\n",
        "    for j, i in enumerate(range(0, a.shape[-1], TPB)):\n",
        "        out[j] = a[i : i + TPB].sum()\n",
        "    return out\n",
        "\n",
        "\n",
        "def sum_test(cuda):\n",
        "    def call(out, a, size: int) -> None:\n",
        "        cache = cuda.shared.array(TPB, numba.float32)\n",
        "        i = cuda.blockIdx.x * cuda.blockDim.x + cuda.threadIdx.x\n",
        "        local_i = cuda.threadIdx.x\n",
        "\n",
        "        # Cache\n",
        "        if i < size:\n",
        "          cache[local_i] = a[i]\n",
        "\n",
        "        cuda.syncthreads();\n",
        "\n",
        "        # Iterate for a maximum of height of b-tree\n",
        "        exp = 0\n",
        "        while (2**exp) < cuda.blockDim.x:\n",
        "          prev_idx = local_i - (2**exp)\n",
        "          if prev_idx >= 0:\n",
        "            cache[local_i] += cache[prev_idx]\n",
        "\n",
        "          cuda.syncthreads();\n",
        "          exp += 1\n",
        "        \n",
        "        if local_i == cuda.blockIdx.x:\n",
        "          out[cuda.blockIdx.x] = cache[TPB-1]\n",
        "        \n",
        "    return call\n",
        "\n",
        "\n",
        "# Test 1\n",
        "\n",
        "SIZE = 8\n",
        "out = np.zeros(1)\n",
        "inp = np.arange(SIZE)\n",
        "problem = CudaProblem(\n",
        "    \"Sum (Simple)\",\n",
        "    sum_test,\n",
        "    [inp],\n",
        "    out,\n",
        "    [SIZE],\n",
        "    Coord(1, 1),\n",
        "    Coord(TPB, 1),\n",
        "    spec=sum_spec,\n",
        ")\n",
        "problem.show()"
      ]
    },
    {
      "cell_type": "code",
      "execution_count": null,
      "id": "800bcfe1",
      "metadata": {
        "colab": {
          "base_uri": "https://localhost:8080/"
        },
        "id": "800bcfe1",
        "outputId": "d599b10a-8f1e-4dc8-87ec-f5ec6f93b123"
      },
      "outputs": [],
      "source": [
        "problem.check()"
      ]
    },
    {
      "cell_type": "markdown",
      "id": "65bc207e",
      "metadata": {
        "id": "65bc207e"
      },
      "source": [
        "Test 2"
      ]
    },
    {
      "cell_type": "code",
      "execution_count": null,
      "id": "d88926a6",
      "metadata": {
        "colab": {
          "base_uri": "https://localhost:8080/",
          "height": 1000
        },
        "id": "d88926a6",
        "outputId": "e41cdc52-0f7b-4520-817a-f22ee7aef538"
      },
      "outputs": [],
      "source": [
        "SIZE = 15\n",
        "out = np.zeros(2)\n",
        "inp = np.arange(SIZE)\n",
        "problem = CudaProblem(\n",
        "    \"Sum (Full)\",\n",
        "    sum_test,\n",
        "    [inp],\n",
        "    out,\n",
        "    [SIZE],\n",
        "    Coord(2, 1),\n",
        "    Coord(TPB, 1),\n",
        "    spec=sum_spec,\n",
        ")\n",
        "problem.show()"
      ]
    },
    {
      "cell_type": "code",
      "execution_count": null,
      "id": "0875bc69",
      "metadata": {
        "colab": {
          "base_uri": "https://localhost:8080/"
        },
        "id": "0875bc69",
        "outputId": "4de2232b-9e94-4c03-c26f-a351c9e08425"
      },
      "outputs": [],
      "source": [
        "problem.check()"
      ]
    },
    {
      "cell_type": "markdown",
      "id": "ce576720",
      "metadata": {
        "id": "ce576720"
      },
      "source": [
        "## Puzzle 13 - Axis Sum\n",
        "\n",
        "Implement a kernel that computes a sum over each row of `a` and stores it in `out`."
      ]
    },
    {
      "cell_type": "code",
      "execution_count": null,
      "id": "ee8e1e58",
      "metadata": {
        "colab": {
          "base_uri": "https://localhost:8080/",
          "height": 1000
        },
        "id": "ee8e1e58",
        "outputId": "accaf3be-fa96-4518-938e-36f60464a21f"
      },
      "outputs": [],
      "source": [
        "TPB = 8\n",
        "def sum_spec(a):\n",
        "    out = np.zeros((a.shape[0], (a.shape[1] + TPB - 1) // TPB))\n",
        "    for j, i in enumerate(range(0, a.shape[-1], TPB)):\n",
        "        out[..., j] = a[..., i : i + TPB].sum(-1)\n",
        "    return out\n",
        "\n",
        "\n",
        "def axis_sum_test(cuda):\n",
        "    def call(out, a, size: int) -> None:\n",
        "        # Each block is responsible for a row\n",
        "        cache = cuda.shared.array(TPB, numba.float32)\n",
        "        i = cuda.blockIdx.x * cuda.blockDim.x + cuda.threadIdx.x\n",
        "        local_i = cuda.threadIdx.x\n",
        "        batch = cuda.blockIdx.y\n",
        "\n",
        "        # Caches a entire row to apply prefix sum (up)\n",
        "        if i < size:\n",
        "          cache[local_i] = a[batch, i]\n",
        "        cuda.syncthreads()\n",
        "\n",
        "        # Iterate for a maximum of height of b-tree\n",
        "        exp = 0\n",
        "        while (2**exp) < size:\n",
        "          prev_idx = local_i - (2**exp)\n",
        "          if prev_idx >= 0:\n",
        "            cache[local_i] += cache[prev_idx]\n",
        "\n",
        "          cuda.syncthreads(); \n",
        "          exp += 1\n",
        "\n",
        "        if local_i == 0:          \n",
        "          out[batch, 0] = cache[TPB-1]\n",
        "\n",
        "    return call\n",
        "\n",
        "\n",
        "BATCH = 4\n",
        "SIZE = 6\n",
        "out = np.zeros((BATCH, 1))\n",
        "# POTENTIAL BUG: I think there is a bug with the visualization\n",
        "inp = np.arange(BATCH * SIZE).reshape((BATCH, SIZE))\n",
        "problem = CudaProblem(\n",
        "    \"Axis Sum\",\n",
        "    axis_sum_test,\n",
        "    [inp],\n",
        "    out,\n",
        "    [SIZE],\n",
        "    Coord(1, BATCH),\n",
        "    Coord(TPB, 1),\n",
        "    spec=sum_spec,\n",
        ")\n",
        "problem.show()"
      ]
    },
    {
      "cell_type": "code",
      "execution_count": null,
      "id": "7921d201",
      "metadata": {
        "colab": {
          "base_uri": "https://localhost:8080/"
        },
        "id": "7921d201",
        "outputId": "4b2dc92c-a8ee-40e1-d1e7-8782f16fc1a1"
      },
      "outputs": [],
      "source": [
        "problem.check()"
      ]
    },
    {
      "cell_type": "markdown",
      "id": "a1adedff",
      "metadata": {
        "id": "a1adedff"
      },
      "source": [
        "## Puzzle 14 - Matrix Multiply!\n",
        "\n",
        "Implement a kernel that multiplies square matrices `a` and `b` and\n",
        "stores it in `out`.\n",
        "\n",
        "*Tip: The most efficient algorithm here will copy a block into\n",
        " shared memory before computing each of the individual row-column\n",
        " dot products. This is easy to do if the matrix fits in shared\n",
        " memory.  Do that case first. Then update your code to compute\n",
        " a partial dot-product and then iteratively move the part that you\n",
        " copied into shared memory.* You should be able to do the hard case\n",
        " in 6 global reads."
      ]
    },
    {
      "cell_type": "code",
      "execution_count": null,
      "id": "3d9aac59",
      "metadata": {
        "colab": {
          "base_uri": "https://localhost:8080/",
          "height": 346
        },
        "id": "3d9aac59",
        "outputId": "bebb99f3-838f-4596-c02d-ae4893eff6f5"
      },
      "outputs": [],
      "source": [
        "def matmul_spec(a, b):\n",
        "    return a @ b\n",
        "\n",
        "\n",
        "TPB = 2 # also TILE_WIDTH\n",
        "def mm_oneblock_test(cuda):\n",
        "    def call(out, a, b, size: int) -> None:\n",
        "        a_shared = cuda.shared.array((TPB, TPB), numba.float32) # tile_A\n",
        "        b_shared = cuda.shared.array((TPB, TPB), numba.float32) # tile_B\n",
        "\n",
        "        i = cuda.blockIdx.x * cuda.blockDim.x + cuda.threadIdx.x # row\n",
        "        j = cuda.blockIdx.y * cuda.blockDim.y + cuda.threadIdx.y # col\n",
        "        local_i = cuda.threadIdx.x\n",
        "        local_j = cuda.threadIdx.y\n",
        "\n",
        "        if (i >= size) or (j >= size):\n",
        "          return\n",
        "\n",
        "        val = 0\n",
        "        for tile_idx in range(size//TPB):\n",
        "          a_shared[local_i, local_j] = a[i, tile_idx*TPB + local_j]\n",
        "          b_shared[local_i, local_j] = b[tile_idx*TPB + local_i, j]\n",
        " \n",
        "          cuda.syncthreads()\n",
        "\n",
        "          for t_idx in range(TPB):\n",
        "            # + is associative\n",
        "            val += a_shared[local_i, t_idx] * b_shared[t_idx, local_j]\n",
        "          cuda.syncthreads()\n",
        "        \n",
        "        out[i, j] = val\n",
        "\n",
        "    return call\n",
        "\n",
        "# Test 1\n",
        "\n",
        "SIZE = 2\n",
        "out = np.zeros((SIZE, SIZE))\n",
        "inp1 = np.arange(SIZE * SIZE).reshape((SIZE, SIZE))\n",
        "inp2 = np.arange(SIZE * SIZE).reshape((SIZE, SIZE)).T\n",
        "\n",
        "problem = CudaProblem(\n",
        "    \"Matmul (Simple)\",\n",
        "    mm_oneblock_test,\n",
        "    [inp1, inp2],\n",
        "    out,\n",
        "    [SIZE],\n",
        "    Coord(1, 1),\n",
        "    Coord(TPB, TPB),\n",
        "    spec=matmul_spec,\n",
        ")\n",
        "problem.show()"
      ]
    },
    {
      "cell_type": "code",
      "execution_count": null,
      "id": "c3271b3f",
      "metadata": {
        "colab": {
          "base_uri": "https://localhost:8080/",
          "height": 444
        },
        "id": "c3271b3f",
        "outputId": "fede1adb-855f-4f22-8f70-b411f09eef5a"
      },
      "outputs": [],
      "source": [
        "problem.check()"
      ]
    },
    {
      "cell_type": "markdown",
      "id": "ba6557c5",
      "metadata": {
        "id": "ba6557c5"
      },
      "source": [
        "Test 2"
      ]
    },
    {
      "cell_type": "code",
      "execution_count": null,
      "id": "77e33685",
      "metadata": {
        "colab": {
          "base_uri": "https://localhost:8080/",
          "height": 1000
        },
        "id": "77e33685",
        "outputId": "09e304bf-de99-457a-a676-740b22242889"
      },
      "outputs": [],
      "source": [
        "SIZE = 8\n",
        "out = np.zeros((SIZE, SIZE))\n",
        "inp1 = np.arange(SIZE * SIZE).reshape((SIZE, SIZE))\n",
        "inp2 = np.arange(SIZE * SIZE).reshape((SIZE, SIZE)).T\n",
        "\n",
        "problem = CudaProblem(\n",
        "    \"Matmul (Full)\",\n",
        "    mm_oneblock_test,\n",
        "    [inp1, inp2],\n",
        "    out,\n",
        "    [SIZE],\n",
        "    Coord(4, 4),\n",
        "    Coord(TPB, TPB),\n",
        "    spec=matmul_spec,\n",
        ")\n",
        "problem.show(sparse=False)"
      ]
    },
    {
      "cell_type": "code",
      "execution_count": null,
      "id": "44cce09c",
      "metadata": {
        "colab": {
          "base_uri": "https://localhost:8080/",
          "height": 444
        },
        "id": "44cce09c",
        "outputId": "683b3430-f2cf-44cf-87fe-79edd21a3bcc"
      },
      "outputs": [],
      "source": [
        "problem.check()"
      ]
    }
  ],
  "metadata": {
    "accelerator": "GPU",
    "colab": {
      "collapsed_sections": [
        "fc2eac07",
        "d9187f70",
        "b98ec557",
        "e474293d",
        "dc022265",
        "d705597c",
        "90948fb7",
        "8f151fa8",
        "c5d28450",
        "46a4282e",
        "890acccd",
        "ce576720",
        "a1adedff"
      ],
      "name": "GPU Puzzles.ipynb",
      "provenance": [],
      "toc_visible": true
    },
    "gpuClass": "standard",
    "jupytext": {
      "cell_metadata_filter": "-all"
    },
    "kernelspec": {
      "display_name": "Python 3.9.10 64-bit",
      "language": "python",
      "name": "python3"
    },
    "language_info": {
      "codemirror_mode": {
        "name": "ipython",
        "version": 3
      },
      "file_extension": ".py",
      "mimetype": "text/x-python",
      "name": "python",
      "nbconvert_exporter": "python",
      "pygments_lexer": "ipython3",
      "version": "3.9.10"
    },
    "vscode": {
      "interpreter": {
        "hash": "b0fa6594d8f4cbf19f97940f81e996739fb7646882a419484c72d19e05852a7e"
      }
    }
  },
  "nbformat": 4,
  "nbformat_minor": 5
}
